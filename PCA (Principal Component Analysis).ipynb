{
  "nbformat": 4,
  "nbformat_minor": 0,
  "metadata": {
    "colab": {
      "name": "PCA (Principal Component Analysis).ipynb",
      "provenance": [],
      "authorship_tag": "ABX9TyOQzt7y/H/+iVDGuFSbOHqT",
      "include_colab_link": true
    },
    "kernelspec": {
      "name": "python3",
      "display_name": "Python 3"
    }
  },
  "cells": [
    {
      "cell_type": "markdown",
      "metadata": {
        "id": "view-in-github",
        "colab_type": "text"
      },
      "source": [
        "<a href=\"https://colab.research.google.com/github/NaufalAN/Machine-Learning/blob/master/PCA%20(Principal%20Component%20Analysis).ipynb\" target=\"_parent\"><img src=\"https://colab.research.google.com/assets/colab-badge.svg\" alt=\"Open In Colab\"/></a>"
      ]
    },
    {
      "cell_type": "code",
      "metadata": {
        "id": "s8GDbKcimnY9",
        "colab_type": "code",
        "colab": {
          "base_uri": "https://localhost:8080/",
          "height": 34
        },
        "outputId": "0f5ee34d-fd66-4181-8758-dd4297e327af"
      },
      "source": [
        "#Reuqired library\n",
        "from sklearn.decomposition import PCA\n",
        "from sklearn.model_selection import train_test_split\n",
        "from sklearn import datasets\n",
        "from sklearn import tree\n",
        "\n",
        "#Load dataset\n",
        "iris = datasets.load_iris()\n",
        "atribut = iris.data\n",
        "label = iris.target\n",
        "\n",
        "#Split data to train & test set\n",
        "X_train, X_test, y_train, y_test = train_test_split(atribut,label,test_size = 0.2)\n",
        "\n",
        "#Create decision tree model\n",
        "decision_tree = tree.DecisionTreeClassifier()\n",
        "model_pertama = decision_tree.fit(X_train,y_train)\n",
        "model_pertama.score(X_test,y_test)\n",
        "\n",
        "#Create PCA object with 4 principal component\n",
        "pca = PCA(n_components=4)\n",
        "\n",
        "#Use PCA in dataset\n",
        "pca_attributes = pca.fit_transform(X_train)\n",
        "\n",
        "#See attribute variance\n",
        "pca.explained_variance_ratio_\n",
        "\n",
        "#Set 2 principal component in dataset will be used\n",
        "pca = PCA(n_components=2)\n",
        "X_train_pca = pca.fit_transform(X_train)\n",
        "X_test_pca = pca.fit_transform(X_test)\n",
        "\n",
        "#Test the model with pca dataset\n",
        "model2 = decision_tree.fit(X_train_pca,y_train)\n",
        "model2.score(X_test_pca,y_test)"
      ],
      "execution_count": 4,
      "outputs": [
        {
          "output_type": "execute_result",
          "data": {
            "text/plain": [
              "0.9333333333333333"
            ]
          },
          "metadata": {
            "tags": []
          },
          "execution_count": 4
        }
      ]
    }
  ]
}