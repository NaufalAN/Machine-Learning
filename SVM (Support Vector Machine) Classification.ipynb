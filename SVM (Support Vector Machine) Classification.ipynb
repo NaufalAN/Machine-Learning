{
  "nbformat": 4,
  "nbformat_minor": 0,
  "metadata": {
    "colab": {
      "name": "SVM (Support Vector Machine) Classification.ipynb",
      "provenance": [],
      "authorship_tag": "ABX9TyOlMxbFYvU4jeV8eWx81Jgw",
      "include_colab_link": true
    },
    "kernelspec": {
      "name": "python3",
      "display_name": "Python 3"
    }
  },
  "cells": [
    {
      "cell_type": "markdown",
      "metadata": {
        "id": "view-in-github",
        "colab_type": "text"
      },
      "source": [
        "<a href=\"https://colab.research.google.com/github/NaufalAN/Machine-Learning/blob/master/SVM%20(Support%20Vector%20Machine)%20Classification.ipynb\" target=\"_parent\"><img src=\"https://colab.research.google.com/assets/colab-badge.svg\" alt=\"Open In Colab\"/></a>"
      ]
    },
    {
      "cell_type": "code",
      "metadata": {
        "id": "-sTIwoZ9zapr",
        "colab_type": "code",
        "colab": {
          "base_uri": "https://localhost:8080/",
          "height": 34
        },
        "outputId": "fabaa044-427a-4e9b-9fdb-3f550fde5e5d"
      },
      "source": [
        "#Required library\n",
        "import pandas as pd\n",
        "from sklearn.preprocessing import StandardScaler\n",
        "from sklearn.model_selection import train_test_split\n",
        "from sklearn.svm import SVC\n",
        "\n",
        "#Convert csv to pandas dataset\n",
        "df = pd.read_csv('diabetes.csv')\n",
        "\n",
        "\n",
        "#Separating attribute (X) and label (y)\n",
        "X = df[df.columns[:8]]\n",
        "y = df['Outcome']\n",
        "\n",
        "#Standarization value in dataset\n",
        "scaler = StandardScaler()\n",
        "scaler.fit(X)\n",
        "X = scaler.transform(X)\n",
        "\n",
        "#Split dataframe into train & test set\n",
        "X_train, X_test, y_train, y_test = train_test_split(X,y,test_size=0.33,random_state=42)\n",
        "\n",
        "#Create SVC model\n",
        "clf = SVC()\n",
        "clf.fit(X_train,y_train)\n",
        "clf.score(X_test,y_test)"
      ],
      "execution_count": 7,
      "outputs": [
        {
          "output_type": "execute_result",
          "data": {
            "text/plain": [
              "0.7559055118110236"
            ]
          },
          "metadata": {
            "tags": []
          },
          "execution_count": 7
        }
      ]
    }
  ]
}