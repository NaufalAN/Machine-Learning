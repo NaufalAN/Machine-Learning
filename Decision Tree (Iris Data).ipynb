{
  "nbformat": 4,
  "nbformat_minor": 0,
  "metadata": {
    "colab": {
      "name": "Untitled0.ipynb",
      "provenance": [],
      "collapsed_sections": [],
      "authorship_tag": "ABX9TyPx8lo9G1KBdAWsSyxOu/U+",
      "include_colab_link": true
    },
    "kernelspec": {
      "name": "python3",
      "display_name": "Python 3"
    }
  },
  "cells": [
    {
      "cell_type": "markdown",
      "metadata": {
        "id": "view-in-github",
        "colab_type": "text"
      },
      "source": [
        "<a href=\"https://colab.research.google.com/github/NaufalAN/Machine_Learning/blob/master/Decision%20Tree%20(Iris%20Data).ipynb\" target=\"_parent\"><img src=\"https://colab.research.google.com/assets/colab-badge.svg\" alt=\"Open In Colab\"/></a>"
      ]
    },
    {
      "cell_type": "code",
      "metadata": {
        "id": "qnE6FZqp_iFZ",
        "colab_type": "code",
        "outputId": "a80a6575-6ecc-4ec7-8c0f-67c159709e45",
        "colab": {
          "base_uri": "https://localhost:8080/",
          "height": 34
        }
      },
      "source": [
        "import sklearn\n",
        "from sklearn import datasets\n",
        "from sklearn.model_selection import cross_val_score\n",
        "from sklearn import tree\n",
        "\n",
        "\n",
        "#Load datasets for train and testing\n",
        "iris = datasets.load_iris()\n",
        "#print(\"Type of iris: \",type(iris))\n",
        "\n",
        "#Splitting data attribue (data) and label (target)\n",
        "x = iris.data\n",
        "y = iris.target\n",
        "'''print(\"Type of x: \",type(x),\"\\nType of y: \",type(y))\n",
        "print(\"x[0]: \",x[1])'''\n",
        "\n",
        "#Create machine learning model (Decision Tree)\n",
        "clf = tree.DecisionTreeClassifier()\n",
        "\n",
        "#Cross validation\n",
        "scores = cross_val_score(clf,x,y,cv=5)\n",
        "print(scores)"
      ],
      "execution_count": 0,
      "outputs": [
        {
          "output_type": "stream",
          "text": [
            "[0.96666667 0.96666667 0.9        0.93333333 1.        ]\n"
          ],
          "name": "stdout"
        }
      ]
    },
    {
      "cell_type": "code",
      "metadata": {
        "id": "fnBmCJWYaKMn",
        "colab_type": "code",
        "colab": {}
      },
      "source": [
        "#Trainig Decision Tree (Iris Dataset)\n",
        "from sklearn.tree import DecisionTreeClassifier\n",
        "import pandas as pd\n",
        "from sklearn.datasets import load_iris\n",
        "from sklearn.tree import export_graphviz\n",
        "\n",
        "#Convert csv files to pandas dataframe\n",
        "iris = pd.read_csv('iris.csv')\n",
        "\n",
        "#Drop 'Id' column\n",
        "iris.drop('Id',axis=1,inplace=True)\n",
        "\n",
        "\n",
        "#Separate attribute (x) and label (y)\n",
        "x = iris[['SepalLengthCm','SepalWidthCm','PetalLengthCm','PetalWidthCm']]\n",
        "y = iris[['Species']]\n",
        "\n",
        "\n",
        "#Create decision tree model\n",
        "tree_model = DecisionTreeClassifier()\n",
        "\n",
        "#Train the model with the data\n",
        "tree_model.fit(x,y)\n",
        "\n",
        "#Test the model with a random iris attribue\n",
        "tree_model.predict([[6.2,3.4,5.4,2.3]])\n",
        "\n",
        "#Visualize the decision tree\n",
        "export_graphviz(tree_model,out_file = 'iris_tree.dot',\n",
        "                feature_names = ['SepalLengthCm','SepalWidthCm','PetalLengthCm','PetalWidthCm'],\n",
        "                class_names = ['Iris-setosa','Iris-versicolor','Iris-virginica'],\n",
        "                rounded = True,\n",
        "                filled = True)"
      ],
      "execution_count": 0,
      "outputs": []
    }
  ]
}