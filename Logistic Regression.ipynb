{
  "nbformat": 4,
  "nbformat_minor": 0,
  "metadata": {
    "colab": {
      "name": "Logistic Regression.ipynb",
      "provenance": [],
      "authorship_tag": "ABX9TyPZbOGV3F/Kk1/e6Cc+FqTO",
      "include_colab_link": true
    },
    "kernelspec": {
      "name": "python3",
      "display_name": "Python 3"
    }
  },
  "cells": [
    {
      "cell_type": "markdown",
      "metadata": {
        "id": "view-in-github",
        "colab_type": "text"
      },
      "source": [
        "<a href=\"https://colab.research.google.com/github/NaufalAN/Machine_Learning/blob/master/Logistic%20Regression.ipynb\" target=\"_parent\"><img src=\"https://colab.research.google.com/assets/colab-badge.svg\" alt=\"Open In Colab\"/></a>"
      ]
    },
    {
      "cell_type": "code",
      "metadata": {
        "id": "0NkNKICpnojr",
        "colab_type": "code",
        "colab": {
          "base_uri": "https://localhost:8080/",
          "height": 34
        },
        "outputId": "c88eeaa5-959f-4287-ccdd-ac0d6d9346b0"
      },
      "source": [
        "#Required library\n",
        "import pandas as pd\n",
        "from sklearn.model_selection import train_test_split\n",
        "from sklearn.preprocessing import StandardScaler\n",
        "from sklearn import linear_model\n",
        "\n",
        "#Convert csv files to pandas dataframe\n",
        "df = pd.read_csv('Social_Network_Ads.csv')\n",
        "#df.info() #Checking data\n",
        "\n",
        "#Drop User-Id column\n",
        "data = df.drop(columns=['User ID'])\n",
        "data = pd.get_dummies(data)\n",
        "#data #to display current data\n",
        "\n",
        "#Separate attribute (x) and label (y)\n",
        "predictions = ['Age','EstimatedSalary','Gender_Female','Gender_Male']\n",
        "X = data[predictions]\n",
        "y = data['Purchased']\n",
        "\n",
        "#Split data to train set & test set\n",
        "X_train, x_test, y_train, y_test = train_test_split(X, y, test_size=0.25, random_state=42)\n",
        "\n",
        "\n",
        "#Create Logistic Regression model\n",
        "model = linear_model.LogisticRegression()\n",
        "model.fit(X_train,y_train)\n",
        "\n",
        "#Test model precision\n",
        "model.score(X_train, y_train)\n"
      ],
      "execution_count": 9,
      "outputs": [
        {
          "output_type": "execute_result",
          "data": {
            "text/plain": [
              "0.6466666666666666"
            ]
          },
          "metadata": {
            "tags": []
          },
          "execution_count": 9
        }
      ]
    }
  ]
}