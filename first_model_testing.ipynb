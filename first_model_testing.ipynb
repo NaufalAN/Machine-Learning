{
  "nbformat": 4,
  "nbformat_minor": 0,
  "metadata": {
    "colab": {
      "name": "Untitled0.ipynb",
      "provenance": [],
      "collapsed_sections": [],
      "authorship_tag": "ABX9TyMzA29GP4m75RNSP+CMsTaj",
      "include_colab_link": true
    },
    "kernelspec": {
      "name": "python3",
      "display_name": "Python 3"
    }
  },
  "cells": [
    {
      "cell_type": "markdown",
      "metadata": {
        "id": "view-in-github",
        "colab_type": "text"
      },
      "source": [
        "<a href=\"https://colab.research.google.com/github/NaufalAN/Machine_Learning/blob/master/first_model_testing.ipynb\" target=\"_parent\"><img src=\"https://colab.research.google.com/assets/colab-badge.svg\" alt=\"Open In Colab\"/></a>"
      ]
    },
    {
      "cell_type": "code",
      "metadata": {
        "id": "qnE6FZqp_iFZ",
        "colab_type": "code",
        "colab": {
          "base_uri": "https://localhost:8080/",
          "height": 34
        },
        "outputId": "a80a6575-6ecc-4ec7-8c0f-67c159709e45"
      },
      "source": [
        "import sklearn\n",
        "from sklearn import datasets\n",
        "from sklearn.model_selection import cross_val_score\n",
        "from sklearn import tree\n",
        "\n",
        "#Load datasets for train and testing\n",
        "iris = datasets.load_iris()\n",
        "#print(\"Type of iris: \",type(iris))\n",
        "\n",
        "#Splitting data attribue and label\n",
        "x = iris.data\n",
        "y = iris.target\n",
        "'''print(\"Type of x: \",type(x),\"\\nType of y: \",type(y))\n",
        "print(\"x[0]: \",x[1])'''\n",
        "\n",
        "#Create machine learning model (Decision Tree)\n",
        "clf = tree.DecisionTreeClassifier()\n",
        "\n",
        "#Cross validation\n",
        "scores = cross_val_score(clf,x,y,cv=5)\n",
        "print(scores)"
      ],
      "execution_count": 8,
      "outputs": [
        {
          "output_type": "stream",
          "text": [
            "[0.96666667 0.96666667 0.9        0.93333333 1.        ]\n"
          ],
          "name": "stdout"
        }
      ]
    }
  ]
}